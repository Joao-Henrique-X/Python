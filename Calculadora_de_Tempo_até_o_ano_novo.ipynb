{
 "cells": [
  {
   "cell_type": "markdown",
   "metadata": {},
   "source": [
    "## Calculadora de Tempo até o ano novo\n",
    "\n",
    "Um script em Python que calcula o ano atual e mostra em dias, horas, minutos e segundos até o próximo ano.\n"
   ]
  },
  {
   "cell_type": "code",
   "execution_count": 4,
   "metadata": {},
   "outputs": [
    {
     "name": "stdout",
     "output_type": "stream",
     "text": [
      "Faltam 339 dias, 8 horas, 39 minutos e 19 segundos para 2026!\n"
     ]
    }
   ],
   "source": [
    "import time\n",
    "import locale\n",
    "locale.setlocale(locale.LC_TIME, \"pt_BR.UTF-8\")\n",
    "\n",
    "\n",
    "ano_atual = time.localtime().tm_year\n",
    "tempo_atual = time.mktime(time.localtime())\n",
    "tempo_prox_ano = time.mktime((ano_atual + 1, 1, 1, 0, 0, 0, 0, 0, 0))\n",
    "\n",
    "diferença = tempo_prox_ano - tempo_atual\n",
    "\n",
    "dias, resto_de_segundos = divmod(diferença, 86400)\n",
    "horas, resto_de_segundos = divmod(resto_de_segundos, 3600)\n",
    "minutos, resto_de_segundos = divmod(resto_de_segundos, 60)\n",
    "segundos = resto_de_segundos\n",
    "\n",
    "print(f\"Faltam {dias:.0f} dias, {horas:.0f} horas, {minutos:.0f} minutos e {segundos:.0f} segundos para {ano_atual + 1}!\")"
   ]
  }
 ],
 "metadata": {
  "kernelspec": {
   "display_name": "Python 3",
   "language": "python",
   "name": "python3"
  },
  "language_info": {
   "codemirror_mode": {
    "name": "ipython",
    "version": 3
   },
   "file_extension": ".py",
   "mimetype": "text/x-python",
   "name": "python",
   "nbconvert_exporter": "python",
   "pygments_lexer": "ipython3",
   "version": "3.10.11"
  }
 },
 "nbformat": 4,
 "nbformat_minor": 4
}
